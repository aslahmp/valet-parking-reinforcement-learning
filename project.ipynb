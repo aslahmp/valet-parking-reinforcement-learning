{
 "cells": [
  {
   "cell_type": "code",
   "execution_count": 256,
   "metadata": {},
   "outputs": [
    {
     "name": "stdout",
     "output_type": "stream",
     "text": [
      "A . . . . . . . . . . . . . . . . . . .\n",
      ". . . . . . . . . . . . . . D . . . . .\n",
      ". . . . . . . . . . . . . . . . . . . .\n",
      ". . . . . . . . . . . . . . . . . . . .\n",
      ". . . . . . . . . . . . . . . . . . . .\n",
      ". . . . . . . . . . . . . . . . . . . .\n",
      ". . . . . . . . . . . . . . . . . . . .\n",
      ". . . . . . . . . . . . . . . . . . . P\n",
      ". . . . . . . . . . . . . . . . . . . .\n",
      ". . . . . . . . . . . . . . . . . . . .\n",
      ". . . . . . . . . . . . . . . . . . . .\n",
      ". . . . . . . . . . D . . . . . . . . .\n",
      ". . . . . . . . . . . . . . . . . . . .\n",
      ". . . . . . . . . . . . . . D . . . . .\n",
      ". . . . . . . . . . . . . . . . . . . .\n",
      ". . . . . P . . . . . . . . . . . . . .\n",
      "P . . . . . . . . . . . . . . . . . . .\n",
      "D . D . . . . . . . . . . . . . . . . .\n",
      ". . . . . . . . . . . . . . . . . . . .\n",
      ". . . . . . . P . . . P . . . . . . . C\n",
      "\n"
     ]
    }
   ],
   "source": [
    "import numpy as np\n",
    "from LAVP import LAVPEnv\n",
    "grid_size = 20\n",
    "num_users=5\n",
    "env = LAVPEnv(grid_size=(grid_size, grid_size), num_users=num_users)\n",
    "obs = env.reset()\n",
    "env.render()\n",
    "\n",
    "\n",
    "# for _ in range(20):\n",
    "#     action = env.action_space.sample()\n",
    "#     obs, reward, done, info = env.step(action) \n",
    "#     print(f\"Action: {action}, Reward: {reward}, Done: {done}, distance: {info['distance']}\")\n",
    "#     env.render()  \n",
    "#     if done:\n",
    "#         break\n",
    "\n",
    "  "
   ]
  },
  {
   "cell_type": "code",
   "execution_count": 257,
   "metadata": {},
   "outputs": [],
   "source": [
    "from aco_1 import AntColony1\n",
    "aco=AntColony1(grid_size=grid_size)"
   ]
  },
  {
   "cell_type": "code",
   "execution_count": 258,
   "metadata": {},
   "outputs": [],
   "source": [
    "aco_2=AntColony1(grid_size=grid_size+1,num_ants=100)"
   ]
  },
  {
   "cell_type": "code",
   "execution_count": 259,
   "metadata": {},
   "outputs": [],
   "source": [
    "spots=env.get_spots()"
   ]
  },
  {
   "cell_type": "code",
   "execution_count": 260,
   "metadata": {},
   "outputs": [
    {
     "name": "stdout",
     "output_type": "stream",
     "text": [
      "Finding shortest path from 0 to 0\n",
      "Finding shortest path from 0 to 1\n",
      "Finding shortest path from 0 to 2\n",
      "Finding shortest path from 0 to 3\n",
      "Finding shortest path from 0 to 4\n",
      "Finding shortest path from 0 to 5\n",
      "Finding shortest path from 0 to 6\n",
      "Finding shortest path from 0 to 7\n",
      "Finding shortest path from 0 to 8\n",
      "Finding shortest path from 0 to 9\n",
      "Finding shortest path from 0 to 10\n",
      "Finding shortest path from 0 to 11\n",
      "Finding shortest path from 1 to 0\n",
      "Finding shortest path from 1 to 1\n",
      "Finding shortest path from 1 to 2\n",
      "Finding shortest path from 1 to 3\n",
      "Finding shortest path from 1 to 4\n",
      "Finding shortest path from 1 to 5\n",
      "Finding shortest path from 1 to 6\n",
      "Finding shortest path from 1 to 7\n",
      "Finding shortest path from 1 to 8\n",
      "Finding shortest path from 1 to 9\n",
      "Finding shortest path from 1 to 10\n",
      "Finding shortest path from 1 to 11\n",
      "Finding shortest path from 2 to 0\n",
      "Finding shortest path from 2 to 1\n",
      "Finding shortest path from 2 to 2\n",
      "Finding shortest path from 2 to 3\n",
      "Finding shortest path from 2 to 4\n",
      "Finding shortest path from 2 to 5\n",
      "Finding shortest path from 2 to 6\n",
      "Finding shortest path from 2 to 7\n",
      "Finding shortest path from 2 to 8\n",
      "Finding shortest path from 2 to 9\n",
      "Finding shortest path from 2 to 10\n",
      "Finding shortest path from 2 to 11\n",
      "Finding shortest path from 3 to 0\n",
      "Finding shortest path from 3 to 1\n",
      "Finding shortest path from 3 to 2\n",
      "Finding shortest path from 3 to 3\n",
      "Finding shortest path from 3 to 4\n",
      "Finding shortest path from 3 to 5\n",
      "Finding shortest path from 3 to 6\n",
      "Finding shortest path from 3 to 7\n",
      "Finding shortest path from 3 to 8\n",
      "Finding shortest path from 3 to 9\n",
      "Finding shortest path from 3 to 10\n",
      "Finding shortest path from 3 to 11\n",
      "Finding shortest path from 4 to 0\n",
      "Finding shortest path from 4 to 1\n",
      "Finding shortest path from 4 to 2\n",
      "Finding shortest path from 4 to 3\n",
      "Finding shortest path from 4 to 4\n",
      "Finding shortest path from 4 to 5\n",
      "Finding shortest path from 4 to 6\n",
      "Finding shortest path from 4 to 7\n",
      "Finding shortest path from 4 to 8\n",
      "Finding shortest path from 4 to 9\n",
      "Finding shortest path from 4 to 10\n",
      "Finding shortest path from 4 to 11\n",
      "Finding shortest path from 5 to 0\n",
      "Finding shortest path from 5 to 1\n",
      "Finding shortest path from 5 to 2\n",
      "Finding shortest path from 5 to 3\n",
      "Finding shortest path from 5 to 4\n",
      "Finding shortest path from 5 to 5\n",
      "Finding shortest path from 5 to 6\n",
      "Finding shortest path from 5 to 7\n",
      "Finding shortest path from 5 to 8\n",
      "Finding shortest path from 5 to 9\n",
      "Finding shortest path from 5 to 10\n",
      "Finding shortest path from 5 to 11\n",
      "Finding shortest path from 6 to 0\n",
      "Finding shortest path from 6 to 1\n",
      "Finding shortest path from 6 to 2\n",
      "Finding shortest path from 6 to 3\n",
      "Finding shortest path from 6 to 4\n",
      "Finding shortest path from 6 to 5\n",
      "Finding shortest path from 6 to 6\n",
      "Finding shortest path from 6 to 7\n",
      "Finding shortest path from 6 to 8\n",
      "Finding shortest path from 6 to 9\n",
      "Finding shortest path from 6 to 10\n",
      "Finding shortest path from 6 to 11\n",
      "Finding shortest path from 7 to 0\n",
      "Finding shortest path from 7 to 1\n",
      "Finding shortest path from 7 to 2\n",
      "Finding shortest path from 7 to 3\n",
      "Finding shortest path from 7 to 4\n",
      "Finding shortest path from 7 to 5\n",
      "Finding shortest path from 7 to 6\n",
      "Finding shortest path from 7 to 7\n",
      "Finding shortest path from 7 to 8\n",
      "Finding shortest path from 7 to 9\n",
      "Finding shortest path from 7 to 10\n",
      "Finding shortest path from 7 to 11\n",
      "Finding shortest path from 8 to 0\n",
      "Finding shortest path from 8 to 1\n",
      "Finding shortest path from 8 to 2\n",
      "Finding shortest path from 8 to 3\n",
      "Finding shortest path from 8 to 4\n",
      "Finding shortest path from 8 to 5\n",
      "Finding shortest path from 8 to 6\n",
      "Finding shortest path from 8 to 7\n",
      "Finding shortest path from 8 to 8\n",
      "Finding shortest path from 8 to 9\n",
      "Finding shortest path from 8 to 10\n",
      "Finding shortest path from 8 to 11\n",
      "Finding shortest path from 9 to 0\n",
      "Finding shortest path from 9 to 1\n",
      "Finding shortest path from 9 to 2\n",
      "Finding shortest path from 9 to 3\n",
      "Finding shortest path from 9 to 4\n",
      "Finding shortest path from 9 to 5\n",
      "Finding shortest path from 9 to 6\n",
      "Finding shortest path from 9 to 7\n",
      "Finding shortest path from 9 to 8\n",
      "Finding shortest path from 9 to 9\n",
      "Finding shortest path from 9 to 10\n",
      "Finding shortest path from 9 to 11\n",
      "Finding shortest path from 10 to 0\n",
      "Finding shortest path from 10 to 1\n",
      "Finding shortest path from 10 to 2\n",
      "Finding shortest path from 10 to 3\n",
      "Finding shortest path from 10 to 4\n",
      "Finding shortest path from 10 to 5\n",
      "Finding shortest path from 10 to 6\n",
      "Finding shortest path from 10 to 7\n",
      "Finding shortest path from 10 to 8\n",
      "Finding shortest path from 10 to 9\n",
      "Finding shortest path from 10 to 10\n",
      "Finding shortest path from 10 to 11\n",
      "Finding shortest path from 11 to 0\n",
      "Finding shortest path from 11 to 1\n",
      "Finding shortest path from 11 to 2\n",
      "Finding shortest path from 11 to 3\n",
      "Finding shortest path from 11 to 4\n",
      "Finding shortest path from 11 to 5\n",
      "Finding shortest path from 11 to 6\n",
      "Finding shortest path from 11 to 7\n",
      "Finding shortest path from 11 to 8\n",
      "Finding shortest path from 11 to 9\n",
      "Finding shortest path from 11 to 10\n",
      "Finding shortest path from 11 to 11\n"
     ]
    }
   ],
   "source": [
    "num_spots = len(spots)\n",
    "minimal_distances = np.full((num_spots, num_spots), 0)\n",
    "shortest_paths = np.empty((num_spots, num_spots), dtype=object)\n",
    "for i in range(num_spots):\n",
    "    for j in range(num_spots):\n",
    "            print(f\"Finding shortest path from {i} to {j}\")\n",
    "            if i == j or minimal_distances[i, j]!=0:\n",
    "                continue\n",
    "            shortest_path, distance = aco.find_shortest_path(tuple(spots[i]), tuple(spots[j]),env)\n",
    "            minimal_distances[i, j] = distance\n",
    "            shortest_paths[i, j] = shortest_path\n",
    "            minimal_distances[j, i] = distance\n",
    "            shortest_paths[j, i] = shortest_path[::-1]\n"
   ]
  },
  {
   "cell_type": "code",
   "execution_count": 261,
   "metadata": {},
   "outputs": [
    {
     "data": {
      "text/plain": [
       "array([19, 19])"
      ]
     },
     "execution_count": 261,
     "metadata": {},
     "output_type": "execute_result"
    }
   ],
   "source": [
    "spots[1]"
   ]
  },
  {
   "cell_type": "code",
   "execution_count": 262,
   "metadata": {},
   "outputs": [
    {
     "name": "stdout",
     "output_type": "stream",
     "text": [
      "1  2   .   5   .   41   .    .    .    .   167  168   .   171   .   174  177  176   .    . \n",
      "46  3  4  6  42  39  40   .   26   .   166  165  169  170  172  173  175  178   .    . \n",
      "47  45  7  43  38  29  28  27  25   .    .    .   164   .    .    .   180  179   .    . \n",
      "48  8  44   .   37  30   .   24  23   .    .    .   163  162   .   181  182   .    .    . \n",
      "49  9  35  36  33  32  31   .   22   .    .   159  161   .    .    .   183   .    .    . \n",
      "50  11  10  34  14  15  16  21   .    .   158  157  160   .    .    .    .   184  187  186\n",
      "52  51  12  13   .   69   .   17  20   .   156   .    .    .    .    .    .   188  185   . \n",
      " .   53  64  62  66  68  70  18  19   .    .   155   .    .    .    .    .    .   189  190\n",
      " .   54  63  65  61  67  71  72   .    .   154   .    .    .    .    .    .    .    .   191\n",
      " .    .   55  56  60   .    .   73   .    .   153   .    .    .    .    .    .    .   192  193\n",
      " .    .    .    .   57  59   .    .   74  75  152   .    .    .    .    .    .   195  194   . \n",
      "94  95   .    .   58   .    .    .   76   .   150  151   .    .    .   212  210   .   196  197\n",
      "93   .   96  97   .    .    .    .   77   .    .   149  148  218  213  214  211  209   .   198\n",
      " .   92  91  98   .    .    .    .    .   78  79  147  146  219  217  216  215  208  199  200\n",
      " .   100  99  90  89  88  87  84  82  81  80  143  144  145  220  221  206  207  203  201\n",
      "101  102   .    .   119  120  86  85  83   .   141  142  137  136  223  222   .   205  204  202\n",
      "106  105  103  117  118  121  123   .    .   140  139  138   .   135  224   .    .    .   241  240\n",
      "D  107  104  116   .   122  124  125   .   130  129  133  134  227  225  234  235  236  242  239\n",
      "108  109  111  112  115   .    .   126  127  128  131  132   .   228  226  231  233  237  238  243\n",
      " .    .   110  113  114   .    .   P   .    .    .   P   .    .   229  230  232   .    .   244\n",
      "\n"
     ]
    }
   ],
   "source": [
    "a=shortest_paths[0,1]\n",
    "a\n",
    "env.renderPath(a)"
   ]
  },
  {
   "cell_type": "code",
   "execution_count": 263,
   "metadata": {},
   "outputs": [],
   "source": [
    "\n",
    "\n",
    "\n",
    "\n",
    "# grid_size = 16\n",
    "# start = (0, 0)\n",
    "# end = (15, 15)\n",
    "\n",
    "# aco = AntColony16x16(grid_size=grid_size, num_ants=20, max_iterations=50)\n",
    "# best_path, best_distance = aco.find_shortest_path(start, end)\n",
    "\n",
    "# print(\"Shortest Path:\", best_path)\n",
    "# print(\"Shortest Distance:\", best_distance)\n"
   ]
  }
 ],
 "metadata": {
  "kernelspec": {
   "display_name": "RL",
   "language": "python",
   "name": "python3"
  },
  "language_info": {
   "codemirror_mode": {
    "name": "ipython",
    "version": 3
   },
   "file_extension": ".py",
   "mimetype": "text/x-python",
   "name": "python",
   "nbconvert_exporter": "python",
   "pygments_lexer": "ipython3",
   "version": "3.10.14"
  }
 },
 "nbformat": 4,
 "nbformat_minor": 2
}
