{
 "cells": [
  {
   "cell_type": "code",
   "execution_count": 1,
   "metadata": {},
   "outputs": [
    {
     "name": "stdout",
     "output_type": "stream",
     "text": [
      "D . . . . . . . . . . . . . P . . . . .\n",
      ". . . . . . . . . . . . . . . . . . . .\n",
      ". . . . . . . . . . . . . . . . . . . .\n",
      ". . . . . . . . . . . . . . . . . . . .\n",
      ". . . . . . . . . . . . . . . . . . . .\n",
      ". . . P . . . D . . . . . . . . . . . .\n",
      ". . . . . . . . . . . . . . . . . . . .\n",
      ". . . . . . . . . . . . . . . . . . . .\n",
      ". . . . . . . . . . . . . . . . . . . .\n",
      ". . . . . . . . . . . . . . . . . . . .\n",
      ". . . . . . . . . . . . . . . . . . . P\n",
      ". . . . . . . D . . . P . . . . . . . .\n",
      ". . . . . . . . . . . . . . . . . . D .\n",
      ". . . . . . . . . . . . . . . . . D . .\n",
      ". . . . . . . . . . . . . . . . . . . .\n",
      ". . . . . . . . . . . . . . . . . . P .\n",
      ". . . . . . . . . . . . . . . . . . . .\n",
      ". . . . . . . . . . . . . . . . . . . .\n",
      ". . . . . . . . . . . . . . . . . . . .\n",
      ". . . . . . . . . . . . . . . . . . . C\n",
      "\n"
     ]
    }
   ],
   "source": [
    "import numpy as np\n",
    "from LAVP import LAVPEnv\n",
    "grid_size = 20\n",
    "num_users=5\n",
    "env = LAVPEnv(grid_size=(grid_size, grid_size), num_users=num_users)\n",
    "obs = env.reset()\n",
    "env.render()\n",
    "\n",
    "\n",
    "# for _ in range(20):\n",
    "#     action = env.action_space.sample()\n",
    "#     obs, reward, done, info = env.step(action) \n",
    "#     print(f\"Action: {action}, Reward: {reward}, Done: {done}, distance: {info['distance']}\")\n",
    "#     env.render()  \n",
    "#     if done:\n",
    "#         break\n",
    "\n",
    "  "
   ]
  },
  {
   "cell_type": "code",
   "execution_count": 2,
   "metadata": {},
   "outputs": [],
   "source": [
    "from aco_1 import AntColony1\n",
    "aco=AntColony1(grid_size=grid_size)"
   ]
  },
  {
   "cell_type": "code",
   "execution_count": 3,
   "metadata": {},
   "outputs": [],
   "source": [
    "aco_2=AntColony1(grid_size=grid_size+1,num_ants=100)"
   ]
  },
  {
   "cell_type": "code",
   "execution_count": 4,
   "metadata": {},
   "outputs": [],
   "source": [
    "spots=env.get_spots()"
   ]
  },
  {
   "cell_type": "code",
   "execution_count": null,
   "metadata": {},
   "outputs": [
    {
     "name": "stdout",
     "output_type": "stream",
     "text": [
      "Finding shortest path from 0 to 0\n",
      "Finding shortest path from 0 to 1\n"
     ]
    },
    {
     "ename": "TypeError",
     "evalue": "'NoneType' object is not subscriptable",
     "output_type": "error",
     "traceback": [
      "\u001b[0;31m---------------------------------------------------------------------------\u001b[0m",
      "\u001b[0;31mTypeError\u001b[0m                                 Traceback (most recent call last)",
      "Cell \u001b[0;32mIn[5], line 13\u001b[0m\n\u001b[1;32m     11\u001b[0m shortest_paths[i, j] \u001b[38;5;241m=\u001b[39m shortest_path\n\u001b[1;32m     12\u001b[0m minimal_distances[j, i] \u001b[38;5;241m=\u001b[39m distance\n\u001b[0;32m---> 13\u001b[0m shortest_paths[j, i] \u001b[38;5;241m=\u001b[39m \u001b[43mshortest_path\u001b[49m\u001b[43m[\u001b[49m\u001b[43m:\u001b[49m\u001b[43m:\u001b[49m\u001b[38;5;241;43m-\u001b[39;49m\u001b[38;5;241;43m1\u001b[39;49m\u001b[43m]\u001b[49m\n",
      "\u001b[0;31mTypeError\u001b[0m: 'NoneType' object is not subscriptable"
     ]
    }
   ],
   "source": [
    "num_spots = len(spots)\n",
    "minimal_distances = np.full((num_spots, num_spots), 0)\n",
    "shortest_paths = np.empty((num_spots, num_spots), dtype=object)\n",
    "for i in range(num_spots):\n",
    "    for j in range(num_spots):\n",
    "            print(f\"Finding shortest path from {i} to {j}\")\n",
    "            if i == j or minimal_distances[i, j]!=0:\n",
    "                continue\n",
    "            shortest_path, distance = aco.find_shortest_path(tuple(spots[i]), tuple(spots[j]),env)\n",
    "            if distance == np.inf:\n",
    "                print(f\"Path from {i} to {j} not found\")\n",
    "                continue\n",
    "            minimal_distances[i, j] = distance\n",
    "            shortest_paths[i, j] = shortest_path\n",
    "            minimal_distances[j, i] = distance\n",
    "            shortest_paths[j, i] = shortest_path[::-1]\n"
   ]
  },
  {
   "cell_type": "code",
   "execution_count": null,
   "metadata": {},
   "outputs": [
    {
     "data": {
      "text/plain": [
       "array([19, 19])"
      ]
     },
     "execution_count": 407,
     "metadata": {},
     "output_type": "execute_result"
    }
   ],
   "source": [
    "spots[1]"
   ]
  },
  {
   "cell_type": "code",
   "execution_count": null,
   "metadata": {},
   "outputs": [
    {
     "name": "stdout",
     "output_type": "stream",
     "text": [
      "1   .    .    .    .    .    .    .    .    .    .    .    .    .    .    .    .    .    .    . \n",
      "2   .    .    .    .    .    .    .    .    .    .    .    .    .    .    .    .    .    .    . \n",
      "3  4   .    .    .    .    .    .    .    .    .    .    .    .   P   .    .    .    .    . \n",
      " .   5   .    .    .    .    .    .    .    .    .    .    .    .    .    .    .    .    .    . \n",
      " .   6   .    .    .    .    .    .    .    .    .    .    .    .    .    .    .    .    .    . \n",
      "7  8   .    .    .    .    .    .    .    .    .    .   D   .    .    .    .    .    .    . \n",
      " .   9  10  11   .    .    .    .    .    .    .    .    .    .    .    .    .    .    .    . \n",
      "20  18  D   .   12   .    .    .    .    .    .    .    .    .    .    .    .    .    .    . \n",
      "21  19  17  16  13   .    .    .    .    .    .    .    .    .    .    .    .    .    .    . \n",
      "23  22   .    .   15  14  D   .    .    .    .    .    .    .    .    .    .    .    .    . \n",
      "24  29  30  31  32   .    .    .    .    .   119   .    .    .    .    .    .    .    .    . \n",
      "28  25   .   33  49   .    .    .    .   118  117  120  121  122  123   .   D   .    .    . \n",
      "27  26  34   .   48  50  51  54  55   .    .   116   .   124  125   .    .    .    .    . \n",
      " .    .    .   35  47   .   53  52  56   .   115  105  104  103  102  126  127  128  134  133\n",
      " .    .    .   36  42  46   .    .   57  114  106   .   100  101  95  94  129  131  132  135\n",
      " .    .    .   37  41  43  45   .   58  113  112  107  99  97  96  93  130  86  85  136\n",
      " .    .    .    .   38  40  44   .   59  111  109  108   .   98  92  91  90  87  84  137\n",
      " .    .    .    .   39   .    .   61  60  110   .    .    .   76  75  74  89  88  83  138\n",
      " .    .    .   P   .    .    .   62  65  66   .    .   77  71  72  73  81  82   .   139\n",
      " .   P   .   P   .    .   63  64   .   67  68  69  70  78  79  80   .    .    .   140\n",
      "\n"
     ]
    }
   ],
   "source": [
    "a=shortest_paths[0,1]\n",
    "a\n",
    "env.renderPath(a)"
   ]
  },
  {
   "cell_type": "code",
   "execution_count": null,
   "metadata": {},
   "outputs": [],
   "source": [
    "\n",
    "\n",
    "\n",
    "\n",
    "# grid_size = 16\n",
    "# start = (0, 0)\n",
    "# end = (15, 15)\n",
    "\n",
    "# aco = AntColony16x16(grid_size=grid_size, num_ants=20, max_iterations=50)\n",
    "# best_path, best_distance = aco.find_shortest_path(start, end)\n",
    "\n",
    "# print(\"Shortest Path:\", best_path)\n",
    "# print(\"Shortest Distance:\", best_distance)\n"
   ]
  }
 ],
 "metadata": {
  "kernelspec": {
   "display_name": "RL",
   "language": "python",
   "name": "python3"
  },
  "language_info": {
   "codemirror_mode": {
    "name": "ipython",
    "version": 3
   },
   "file_extension": ".py",
   "mimetype": "text/x-python",
   "name": "python",
   "nbconvert_exporter": "python",
   "pygments_lexer": "ipython3",
   "version": "3.10.14"
  }
 },
 "nbformat": 4,
 "nbformat_minor": 2
}
