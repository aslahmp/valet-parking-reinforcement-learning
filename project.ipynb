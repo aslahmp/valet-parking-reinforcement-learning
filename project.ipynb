{
 "cells": [
  {
   "cell_type": "code",
   "execution_count": null,
   "metadata": {
    "vscode": {
     "languageId": "plaintext"
    }
   },
   "outputs": [],
   "source": [
    "def isValid(s,a):\n",
    "\n",
    "\n",
    "    return (s+a>=0 and s+a<l)\n",
    "def tau(s,a):\n",
    "\n",
    "    if(a==0):#up\n",
    "        if(isValid(s[0],-1)):\n",
    "            return (s[0]-1,s[1])\n",
    "    elif(a==1):#down\n",
    "        if(isValid(s[0],+1)):\n",
    "            return (s[0]+1,s[1])\n",
    "    elif(a==2):#left\n",
    "        if(isValid(s[1],-1)):\n",
    "            return (s[0],s[1]-1)    \n",
    "    elif(a==3):#right\n",
    "        if(isValid(s[1],1)):\n",
    "            return (s[0],s[1]+1)    \n",
    "    return(s)"
   ]
  }
 ],
 "metadata": {
  "language_info": {
   "name": "python"
  }
 },
 "nbformat": 4,
 "nbformat_minor": 2
}
